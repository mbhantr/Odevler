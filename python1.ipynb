{
  "nbformat": 4,
  "nbformat_minor": 0,
  "metadata": {
    "colab": {
      "name": "python1.ipynb",
      "provenance": [],
      "collapsed_sections": [],
      "authorship_tag": "ABX9TyPFoKWj65YqozklxROdCuq3",
      "include_colab_link": true
    },
    "kernelspec": {
      "name": "python3",
      "display_name": "Python 3"
    }
  },
  "cells": [
    {
      "cell_type": "markdown",
      "metadata": {
        "id": "view-in-github",
        "colab_type": "text"
      },
      "source": [
        "<a href=\"https://colab.research.google.com/github/mbhantr/Odevler/blob/main/python1.ipynb\" target=\"_parent\"><img src=\"https://colab.research.google.com/assets/colab-badge.svg\" alt=\"Open In Colab\"/></a>"
      ]
    },
    {
      "cell_type": "code",
      "metadata": {
        "colab": {
          "base_uri": "https://localhost:8080/"
        },
        "id": "vGt38pDEAKQL",
        "outputId": "59e7ec6e-d815-491e-fc70-70ac47ab5036"
      },
      "source": [
        "for i in range(1,100):\n",
        "    if i%3==0 and i%5==0:\n",
        "        print(\"fizzbuzz\",\",\",end=\" \")\n",
        "    if i % 3==0:      \n",
        "        print(\"fizz\",\",\",end = \" \")\n",
        "    if i % 5==0:\n",
        "        print(\"buzz\",\" ,\",end= \" \")\n",
        "    else:\n",
        "        print(i,\",\",end=\" \")"
      ],
      "execution_count": null,
      "outputs": [
        {
          "output_type": "stream",
          "text": [
            "1 , 2 , fizz , 3 , 4 , buzz  , fizz , 6 , 7 , 8 , fizz , 9 , buzz  , 11 , fizz , 12 , 13 , 14 , fizzbuzz , fizz , buzz  , 16 , 17 , fizz , 18 , 19 , buzz  , fizz , 21 , 22 , 23 , fizz , 24 , "
          ],
          "name": "stdout"
        }
      ]
    }
  ]
}